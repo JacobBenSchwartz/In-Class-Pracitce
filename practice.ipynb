{
 "cells": [
  {
   "cell_type": "code",
   "execution_count": 14,
   "id": "aa05670b",
   "metadata": {},
   "outputs": [],
   "source": [
    "def greet_user(username):\n",
    "    \"\"\"Display a simple greeting.\"\"\"\n",
    "    print(f\"Hello, {username.title()}!\")"
   ]
  },
  {
   "cell_type": "code",
   "execution_count": 15,
   "id": "338b8427",
   "metadata": {},
   "outputs": [
    {
     "name": "stdout",
     "output_type": "stream",
     "text": [
      "Hello, Jesse!\n"
     ]
    }
   ],
   "source": [
    "greet_user('jesse')"
   ]
  },
  {
   "cell_type": "markdown",
   "id": "cb609ee3",
   "metadata": {},
   "source": [
    "When you're defining a function, you need def, then a space, then the name of your function (can't start with a number and no spaces) and then parantheses and a colon.\n",
    "\n",
    "Triple-quote string: a doc string. The doc string will specifically be tied to the function and then only appear in the spot in the function. "
   ]
  },
  {
   "cell_type": "code",
   "execution_count": 16,
   "id": "0793b517",
   "metadata": {},
   "outputs": [],
   "source": [
    "def greet_user(username: str):\n",
    "    \"\"\"Display a simple greeting.\"\"\"\n",
    "    print(f\"Hello, {username}!\")"
   ]
  },
  {
   "cell_type": "code",
   "execution_count": 17,
   "id": "789b33d3",
   "metadata": {},
   "outputs": [
    {
     "name": "stdout",
     "output_type": "stream",
     "text": [
      "Hello, jacob!\n"
     ]
    }
   ],
   "source": [
    "greet_user(\"jacob\")"
   ]
  },
  {
   "cell_type": "markdown",
   "id": "9ba1e8b8",
   "metadata": {},
   "source": [
    "Something ick about this: printing is a SIDE-EFFECT."
   ]
  },
  {
   "cell_type": "code",
   "execution_count": 18,
   "id": "46c7ca46",
   "metadata": {},
   "outputs": [],
   "source": [
    "def greet_user(username: str):\n",
    "    \"\"\"Display a simple greeting.\"\"\"\n",
    "    return(f\"Hello, {username}!\")"
   ]
  },
  {
   "cell_type": "code",
   "execution_count": 19,
   "id": "69fddce3",
   "metadata": {},
   "outputs": [
    {
     "data": {
      "text/plain": [
       "'Hello, Jacob!'"
      ]
     },
     "execution_count": 19,
     "metadata": {},
     "output_type": "execute_result"
    }
   ],
   "source": [
    "greet_user(\"Jacob\")"
   ]
  },
  {
   "cell_type": "markdown",
   "id": "a849e032",
   "metadata": {},
   "source": [
    "The cool thing about the return value, rather than just a printed string, is we can use it in other functions. "
   ]
  },
  {
   "cell_type": "code",
   "execution_count": 22,
   "id": "c66ce2a8",
   "metadata": {},
   "outputs": [],
   "source": [
    "def print_user_greeting(username: str):\n",
    "    print(greet_user(username)) # -> print(\"Hello, Charles!\")"
   ]
  },
  {
   "cell_type": "code",
   "execution_count": 23,
   "id": "5d3336aa",
   "metadata": {},
   "outputs": [
    {
     "name": "stdout",
     "output_type": "stream",
     "text": [
      "Hello, Charles!\n"
     ]
    }
   ],
   "source": [
    "print_user_greeting(\"Charles\")"
   ]
  },
  {
   "cell_type": "code",
   "execution_count": 26,
   "id": "249427d1",
   "metadata": {},
   "outputs": [],
   "source": [
    "def describe_pet(animal_type: str, pet_name: str):\n",
    "    return f\"My {animal_type} is {pet_name.title()}.\""
   ]
  },
  {
   "cell_type": "code",
   "execution_count": 27,
   "id": "226feba6",
   "metadata": {},
   "outputs": [
    {
     "data": {
      "text/plain": [
       "'My dog is Cami.'"
      ]
     },
     "execution_count": 27,
     "metadata": {},
     "output_type": "execute_result"
    }
   ],
   "source": [
    "describe_pet(\"dog\", \"Cami\")"
   ]
  },
  {
   "cell_type": "code",
   "execution_count": 28,
   "id": "4800a050",
   "metadata": {},
   "outputs": [
    {
     "data": {
      "text/plain": [
       "'My Cami is Dog.'"
      ]
     },
     "execution_count": 28,
     "metadata": {},
     "output_type": "execute_result"
    }
   ],
   "source": [
    "describe_pet(\"Cami\", \"dog\")"
   ]
  }
 ],
 "metadata": {
  "kernelspec": {
   "display_name": "Python 3",
   "language": "python",
   "name": "python3"
  },
  "language_info": {
   "codemirror_mode": {
    "name": "ipython",
    "version": 3
   },
   "file_extension": ".py",
   "mimetype": "text/x-python",
   "name": "python",
   "nbconvert_exporter": "python",
   "pygments_lexer": "ipython3",
   "version": "3.12.1"
  }
 },
 "nbformat": 4,
 "nbformat_minor": 5
}
