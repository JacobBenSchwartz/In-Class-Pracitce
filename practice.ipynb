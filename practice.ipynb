{
 "cells": [
  {
   "cell_type": "code",
   "execution_count": 14,
   "id": "aa05670b",
   "metadata": {},
   "outputs": [],
   "source": [
    "def greet_user(username):\n",
    "    \"\"\"Display a simple greeting.\"\"\"\n",
    "    print(f\"Hello, {username.title()}!\")"
   ]
  },
  {
   "cell_type": "code",
   "execution_count": 15,
   "id": "338b8427",
   "metadata": {},
   "outputs": [
    {
     "name": "stdout",
     "output_type": "stream",
     "text": [
      "Hello, Jesse!\n"
     ]
    }
   ],
   "source": [
    "greet_user('jesse')"
   ]
  },
  {
   "cell_type": "markdown",
   "id": "cb609ee3",
   "metadata": {},
   "source": [
    "When you're defining a function, you need def, then a space, then the name of your function (can't start with a number and no spaces) and then parantheses and a colon.\n",
    "\n",
    "Triple-quote string: a doc string. The doc string will specifically be tied to the function and then only appear in the spot in the function. "
   ]
  },
  {
   "cell_type": "code",
   "execution_count": 16,
   "id": "0793b517",
   "metadata": {},
   "outputs": [],
   "source": [
    "def greet_user(username: str):\n",
    "    \"\"\"Display a simple greeting.\"\"\"\n",
    "    print(f\"Hello, {username}!\")"
   ]
  },
  {
   "cell_type": "code",
   "execution_count": 17,
   "id": "789b33d3",
   "metadata": {},
   "outputs": [
    {
     "name": "stdout",
     "output_type": "stream",
     "text": [
      "Hello, jacob!\n"
     ]
    }
   ],
   "source": [
    "greet_user(\"jacob\")"
   ]
  },
  {
   "cell_type": "markdown",
   "id": "9ba1e8b8",
   "metadata": {},
   "source": [
    "Something ick about this: printing is a SIDE-EFFECT."
   ]
  },
  {
   "cell_type": "code",
   "execution_count": 18,
   "id": "46c7ca46",
   "metadata": {},
   "outputs": [],
   "source": [
    "def greet_user(username: str):\n",
    "    \"\"\"Display a simple greeting.\"\"\"\n",
    "    return(f\"Hello, {username}!\")"
   ]
  },
  {
   "cell_type": "code",
   "execution_count": 19,
   "id": "69fddce3",
   "metadata": {},
   "outputs": [
    {
     "data": {
      "text/plain": [
       "'Hello, Jacob!'"
      ]
     },
     "execution_count": 19,
     "metadata": {},
     "output_type": "execute_result"
    }
   ],
   "source": [
    "greet_user(\"Jacob\")"
   ]
  },
  {
   "cell_type": "markdown",
   "id": "a849e032",
   "metadata": {},
   "source": [
    "The cool thing about the return value, rather than just a printed string, is we can use it in other functions. "
   ]
  },
  {
   "cell_type": "code",
   "execution_count": 22,
   "id": "c66ce2a8",
   "metadata": {},
   "outputs": [],
   "source": [
    "def print_user_greeting(username: str):\n",
    "    print(greet_user(username)) # -> print(\"Hello, Charles!\")"
   ]
  },
  {
   "cell_type": "code",
   "execution_count": 23,
   "id": "5d3336aa",
   "metadata": {},
   "outputs": [
    {
     "name": "stdout",
     "output_type": "stream",
     "text": [
      "Hello, Charles!\n"
     ]
    }
   ],
   "source": [
    "print_user_greeting(\"Charles\")"
   ]
  },
  {
   "cell_type": "code",
   "execution_count": 26,
   "id": "249427d1",
   "metadata": {},
   "outputs": [],
   "source": [
    "def describe_pet(animal_type: str, pet_name: str):\n",
    "    return f\"My {animal_type} is {pet_name.title()}.\""
   ]
  },
  {
   "cell_type": "code",
   "execution_count": 27,
   "id": "226feba6",
   "metadata": {},
   "outputs": [
    {
     "data": {
      "text/plain": [
       "'My dog is Cami.'"
      ]
     },
     "execution_count": 27,
     "metadata": {},
     "output_type": "execute_result"
    }
   ],
   "source": [
    "describe_pet(\"dog\", \"Cami\")"
   ]
  },
  {
   "cell_type": "code",
   "execution_count": 28,
   "id": "4800a050",
   "metadata": {},
   "outputs": [
    {
     "data": {
      "text/plain": [
       "'My Cami is Dog.'"
      ]
     },
     "execution_count": 28,
     "metadata": {},
     "output_type": "execute_result"
    }
   ],
   "source": [
    "describe_pet(\"Cami\", \"dog\")"
   ]
  },
  {
   "cell_type": "markdown",
   "id": "3582072a",
   "metadata": {},
   "source": [
    "Chapter 12\n",
    "----------"
   ]
  },
  {
   "cell_type": "code",
   "execution_count": 8,
   "id": "188a2174",
   "metadata": {},
   "outputs": [
    {
     "name": "stdout",
     "output_type": "stream",
     "text": [
      "Collecting pygame\n",
      "  Downloading pygame-2.6.1-cp312-cp312-manylinux_2_17_x86_64.manylinux2014_x86_64.whl.metadata (12 kB)\n",
      "Downloading pygame-2.6.1-cp312-cp312-manylinux_2_17_x86_64.manylinux2014_x86_64.whl (14.0 MB)\n",
      "\u001b[2K   \u001b[90m━━━━━━━━━━━━━━━━━━━━━━━━━━━━━━━━━━━━━━━━\u001b[0m \u001b[32m14.0/14.0 MB\u001b[0m \u001b[31m49.3 MB/s\u001b[0m eta \u001b[36m0:00:00\u001b[0m:00:01\u001b[0m\n",
      "\u001b[?25hInstalling collected packages: pygame\n",
      "Successfully installed pygame-2.6.1\n",
      "Note: you may need to restart the kernel to use updated packages.\n"
     ]
    }
   ],
   "source": [
    "%pip install pygame"
   ]
  },
  {
   "cell_type": "code",
   "execution_count": 9,
   "id": "b8f6d091",
   "metadata": {},
   "outputs": [
    {
     "name": "stdout",
     "output_type": "stream",
     "text": [
      "pygame 2.6.1 (SDL 2.28.4, Python 3.12.1)\n",
      "Hello from the pygame community. https://www.pygame.org/contribute.html\n"
     ]
    }
   ],
   "source": [
    "import sys\n",
    "import pygame\n"
   ]
  },
  {
   "cell_type": "code",
   "execution_count": null,
   "id": "8f16f022",
   "metadata": {},
   "outputs": [
    {
     "name": "stderr",
     "output_type": "stream",
     "text": [
      "ALSA lib confmisc.c:767:(parse_card) cannot find card '0'\n",
      "ALSA lib conf.c:4732:(_snd_config_evaluate) function snd_func_card_driver returned error: No such file or directory\n",
      "ALSA lib confmisc.c:392:(snd_func_concat) error evaluating strings\n",
      "ALSA lib conf.c:4732:(_snd_config_evaluate) function snd_func_concat returned error: No such file or directory\n",
      "ALSA lib confmisc.c:1246:(snd_func_refer) error evaluating name\n",
      "ALSA lib conf.c:4732:(_snd_config_evaluate) function snd_func_refer returned error: No such file or directory\n",
      "ALSA lib conf.c:5220:(snd_config_expand) Evaluate error: No such file or directory\n",
      "ALSA lib pcm.c:2642:(snd_pcm_open_noupdate) Unknown PCM default\n"
     ]
    },
    {
     "ename": "KeyboardInterrupt",
     "evalue": "",
     "output_type": "error",
     "traceback": [
      "\u001b[31m---------------------------------------------------------------------------\u001b[39m",
      "\u001b[31mKeyboardInterrupt\u001b[39m                         Traceback (most recent call last)",
      "\u001b[36mCell\u001b[39m\u001b[36m \u001b[39m\u001b[32mIn[11]\u001b[39m\u001b[32m, line 25\u001b[39m\n\u001b[32m     22\u001b[39m \u001b[38;5;28;01mif\u001b[39;00m \u001b[34m__name__\u001b[39m == \u001b[33m'\u001b[39m\u001b[33m__main__\u001b[39m\u001b[33m'\u001b[39m:\n\u001b[32m     23\u001b[39m     \u001b[38;5;66;03m# Make a game instance and run the game. \u001b[39;00m\n\u001b[32m     24\u001b[39m     ai = AlienInvasion()\n\u001b[32m---> \u001b[39m\u001b[32m25\u001b[39m     \u001b[43mai\u001b[49m\u001b[43m.\u001b[49m\u001b[43mrun_game\u001b[49m\u001b[43m(\u001b[49m\u001b[43m)\u001b[49m\n",
      "\u001b[36mCell\u001b[39m\u001b[36m \u001b[39m\u001b[32mIn[11]\u001b[39m\u001b[32m, line 15\u001b[39m, in \u001b[36mAlienInvasion.run_game\u001b[39m\u001b[34m(self)\u001b[39m\n\u001b[32m     12\u001b[39m \u001b[38;5;250m\u001b[39m\u001b[33;03m\"\"\"Start the main loop for the game.\"\"\"\u001b[39;00m\n\u001b[32m     13\u001b[39m \u001b[38;5;28;01mwhile\u001b[39;00m \u001b[38;5;28;01mTrue\u001b[39;00m:\n\u001b[32m     14\u001b[39m     \u001b[38;5;66;03m# Watch for keyboard and mouse events.\u001b[39;00m\n\u001b[32m---> \u001b[39m\u001b[32m15\u001b[39m     \u001b[38;5;28;01mfor\u001b[39;00m event \u001b[38;5;129;01min\u001b[39;00m \u001b[43mpygame\u001b[49m\u001b[43m.\u001b[49m\u001b[43mevent\u001b[49m\u001b[43m.\u001b[49m\u001b[43mget\u001b[49m\u001b[43m(\u001b[49m\u001b[43m)\u001b[49m:\n\u001b[32m     16\u001b[39m         \u001b[38;5;28;01mif\u001b[39;00m event.type == pygame.QUIT:\n\u001b[32m     17\u001b[39m             sys.exit()\n",
      "\u001b[31mKeyboardInterrupt\u001b[39m: "
     ]
    }
   ],
   "source": [
    "class AlienInvasion:\n",
    "    \"\"\"Overall class to manage game assets and behavior.\"\"\"\n",
    "    \n",
    "    def __init__(self):\n",
    "        \"\"\"Initialize the game, and create game resources.\"\"\"\n",
    "        pygame.init()\n",
    "\n",
    "        self.screen = pygame.display.set_mode((1200,800))\n",
    "        self.clock = pygame.time.Clock()\n",
    "        self.bg_color = (230, 230, 230)\n",
    "        \n",
    "        pygame.display.set_caption(\"Alien Invasion\")\n",
    "\n",
    "    def run_game(self):\n",
    "        \"\"\"Start the main loop for the game.\"\"\"\n",
    "        while True:\n",
    "            # Watch for keyboard and mouse events.\n",
    "            for event in pygame.event.get():\n",
    "                if event.type == pygame.QUIT:\n",
    "                    print(\"I'm trying to quit!\")\n",
    "                    sys.exit()\n",
    "            \n",
    "            # Make the most recently drawn screen visible.\n",
    "            self.screen.fill(self.bg_color)\n",
    "            pygame.display.flip()\n",
    "            self.clock.tick(60)\n",
    "\n",
    "if __name__ == '__main__':\n",
    "    # Make a game instance and run the game. \n",
    "    ai = AlienInvasion()\n",
    "    ai.run_game()"
   ]
  }
 ],
 "metadata": {
  "kernelspec": {
   "display_name": "Python 3",
   "language": "python",
   "name": "python3"
  },
  "language_info": {
   "codemirror_mode": {
    "name": "ipython",
    "version": 3
   },
   "file_extension": ".py",
   "mimetype": "text/x-python",
   "name": "python",
   "nbconvert_exporter": "python",
   "pygments_lexer": "ipython3",
   "version": "3.12.1"
  }
 },
 "nbformat": 4,
 "nbformat_minor": 5
}
